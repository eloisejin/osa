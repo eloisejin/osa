{
 "cells": [
  {
   "cell_type": "markdown",
   "metadata": {},
   "source": [
    "## Import labraries"
   ]
  },
  {
   "cell_type": "code",
   "execution_count": 1,
   "metadata": {},
   "outputs": [],
   "source": [
    "import pandas as pd \n",
    "import numpy as np \n",
    "from matplotlib import pyplot as plt\n",
    "from sklearn.preprocessing import StandardScaler\n",
    "from sklearn.model_selection import train_test_split \n",
    "from sklearn.neighbors import KNeighborsRegressor \n",
    "from sklearn.neighbors import KNeighborsClassifier\n",
    "from sklearn.neighbors import RadiusNeighborsRegressor\n",
    "from sklearn.neighbors import RadiusNeighborsClassifier\n",
    "from sklearn import neighbors\n",
    "from sklearn.metrics import classification_report, confusion_matrix\n",
    "from sklearn.metrics import r2_score\n",
    "from math import sqrt\n",
    "from sklearn.metrics import mean_squared_error\n",
    "from sklearn import metrics\n",
    "from sklearn.model_selection import GridSearchCV"
   ]
  },
  {
   "cell_type": "markdown",
   "metadata": {},
   "source": [
    "# - Classification"
   ]
  },
  {
   "cell_type": "markdown",
   "metadata": {},
   "source": [
    "# K-Nearest Neighbors Classification"
   ]
  },
  {
   "cell_type": "code",
   "execution_count": 2,
   "metadata": {},
   "outputs": [],
   "source": [
    "data = pd.read_excel(\"OSA_extreme_male.xlsx\")\n",
    "df_OSA_male = pd.DataFrame(data)"
   ]
  },
  {
   "cell_type": "code",
   "execution_count": 3,
   "metadata": {},
   "outputs": [
    {
     "data": {
      "text/html": [
       "<div>\n",
       "<style scoped>\n",
       "    .dataframe tbody tr th:only-of-type {\n",
       "        vertical-align: middle;\n",
       "    }\n",
       "\n",
       "    .dataframe tbody tr th {\n",
       "        vertical-align: top;\n",
       "    }\n",
       "\n",
       "    .dataframe thead th {\n",
       "        text-align: right;\n",
       "    }\n",
       "</style>\n",
       "<table border=\"1\" class=\"dataframe\">\n",
       "  <thead>\n",
       "    <tr style=\"text-align: right;\">\n",
       "      <th></th>\n",
       "      <th>Patient</th>\n",
       "      <th>Gender</th>\n",
       "      <th>IAH</th>\n",
       "      <th>Weight</th>\n",
       "      <th>Height</th>\n",
       "      <th>Age</th>\n",
       "      <th>Cervical</th>\n",
       "      <th>OSA</th>\n",
       "      <th>BMI</th>\n",
       "    </tr>\n",
       "  </thead>\n",
       "  <tbody>\n",
       "    <tr>\n",
       "      <th>0</th>\n",
       "      <td>P0002</td>\n",
       "      <td>hombre</td>\n",
       "      <td>29.6</td>\n",
       "      <td>119</td>\n",
       "      <td>174</td>\n",
       "      <td>56</td>\n",
       "      <td>48</td>\n",
       "      <td>Severe</td>\n",
       "      <td>39.305060</td>\n",
       "    </tr>\n",
       "    <tr>\n",
       "      <th>1</th>\n",
       "      <td>P0004</td>\n",
       "      <td>hombre</td>\n",
       "      <td>19.7</td>\n",
       "      <td>78</td>\n",
       "      <td>168</td>\n",
       "      <td>39</td>\n",
       "      <td>42</td>\n",
       "      <td>Severe</td>\n",
       "      <td>27.636054</td>\n",
       "    </tr>\n",
       "    <tr>\n",
       "      <th>2</th>\n",
       "      <td>P0005</td>\n",
       "      <td>hombre</td>\n",
       "      <td>9.0</td>\n",
       "      <td>80</td>\n",
       "      <td>173</td>\n",
       "      <td>32</td>\n",
       "      <td>40</td>\n",
       "      <td>Healthy</td>\n",
       "      <td>26.729927</td>\n",
       "    </tr>\n",
       "    <tr>\n",
       "      <th>3</th>\n",
       "      <td>P0006</td>\n",
       "      <td>hombre</td>\n",
       "      <td>2.0</td>\n",
       "      <td>109</td>\n",
       "      <td>190</td>\n",
       "      <td>32</td>\n",
       "      <td>42</td>\n",
       "      <td>Healthy</td>\n",
       "      <td>30.193906</td>\n",
       "    </tr>\n",
       "    <tr>\n",
       "      <th>4</th>\n",
       "      <td>P0009</td>\n",
       "      <td>hombre</td>\n",
       "      <td>22.0</td>\n",
       "      <td>72</td>\n",
       "      <td>165</td>\n",
       "      <td>40</td>\n",
       "      <td>42</td>\n",
       "      <td>Severe</td>\n",
       "      <td>26.446281</td>\n",
       "    </tr>\n",
       "  </tbody>\n",
       "</table>\n",
       "</div>"
      ],
      "text/plain": [
       "  Patient  Gender   IAH  Weight  Height  Age  Cervical      OSA        BMI\n",
       "0   P0002  hombre  29.6     119     174   56        48   Severe  39.305060\n",
       "1   P0004  hombre  19.7      78     168   39        42   Severe  27.636054\n",
       "2   P0005  hombre   9.0      80     173   32        40  Healthy  26.729927\n",
       "3   P0006  hombre   2.0     109     190   32        42  Healthy  30.193906\n",
       "4   P0009  hombre  22.0      72     165   40        42   Severe  26.446281"
      ]
     },
     "execution_count": 3,
     "metadata": {},
     "output_type": "execute_result"
    }
   ],
   "source": [
    "df_OSA_male.head()"
   ]
  },
  {
   "cell_type": "code",
   "execution_count": 4,
   "metadata": {},
   "outputs": [],
   "source": [
    "features = ['Age','Cervical','BMI']"
   ]
  },
  {
   "cell_type": "code",
   "execution_count": 5,
   "metadata": {},
   "outputs": [],
   "source": [
    "# Creating X and y\n",
    "X = df_OSA_male[features]\n",
    "y = df_OSA_male['OSA']"
   ]
  },
  {
   "cell_type": "code",
   "execution_count": 6,
   "metadata": {},
   "outputs": [
    {
     "data": {
      "text/plain": [
       "StandardScaler()"
      ]
     },
     "execution_count": 6,
     "metadata": {},
     "output_type": "execute_result"
    }
   ],
   "source": [
    "scaler = StandardScaler()\n",
    "scaler.fit(X)"
   ]
  },
  {
   "cell_type": "code",
   "execution_count": 7,
   "metadata": {},
   "outputs": [],
   "source": [
    "X_train, X_test, y_train, y_test = train_test_split(X, y, test_size = 0.2, random_state=0)"
   ]
  },
  {
   "cell_type": "code",
   "execution_count": 8,
   "metadata": {},
   "outputs": [],
   "source": [
    "# Create KNN instance\n",
    "knn = KNeighborsClassifier(n_neighbors=1)"
   ]
  },
  {
   "cell_type": "code",
   "execution_count": 9,
   "metadata": {},
   "outputs": [
    {
     "data": {
      "text/plain": [
       "KNeighborsClassifier(n_neighbors=1)"
      ]
     },
     "execution_count": 9,
     "metadata": {},
     "output_type": "execute_result"
    }
   ],
   "source": [
    "# Fit (i.e. traing) the model\n",
    "knn.fit(X_train, y_train)"
   ]
  },
  {
   "cell_type": "code",
   "execution_count": 10,
   "metadata": {},
   "outputs": [],
   "source": [
    "# Use the predict() method to make predictions from the X_test subset\n",
    "pred = knn.predict(X_test)"
   ]
  },
  {
   "cell_type": "code",
   "execution_count": 11,
   "metadata": {},
   "outputs": [
    {
     "data": {
      "text/plain": [
       "array(['Healthy', 'Healthy', 'Severe', 'Severe', 'Severe', 'Healthy',\n",
       "       'Severe', 'Healthy', 'Severe', 'Healthy', 'Severe', 'Healthy',\n",
       "       'Healthy', 'Healthy', 'Healthy', 'Severe', 'Healthy', 'Healthy',\n",
       "       'Healthy', 'Healthy', 'Severe', 'Severe', 'Severe', 'Severe',\n",
       "       'Healthy', 'Severe', 'Healthy', 'Severe', 'Healthy', 'Healthy',\n",
       "       'Severe', 'Severe', 'Healthy', 'Healthy', 'Severe', 'Healthy',\n",
       "       'Severe', 'Healthy', 'Severe', 'Healthy', 'Severe', 'Severe',\n",
       "       'Severe', 'Severe', 'Severe', 'Healthy', 'Healthy', 'Healthy',\n",
       "       'Healthy', 'Severe', 'Healthy', 'Severe', 'Severe', 'Severe',\n",
       "       'Severe', 'Severe', 'Severe', 'Healthy', 'Severe', 'Healthy',\n",
       "       'Severe', 'Healthy', 'Severe', 'Severe'], dtype=object)"
      ]
     },
     "execution_count": 11,
     "metadata": {},
     "output_type": "execute_result"
    }
   ],
   "source": [
    "pred"
   ]
  },
  {
   "cell_type": "markdown",
   "metadata": {},
   "source": [
    "## Evaluate the predictions"
   ]
  },
  {
   "cell_type": "code",
   "execution_count": 12,
   "metadata": {},
   "outputs": [
    {
     "name": "stdout",
     "output_type": "stream",
     "text": [
      "              precision    recall  f1-score   support\n",
      "\n",
      "     Healthy       0.47      0.50      0.48        28\n",
      "      Severe       0.59      0.56      0.57        36\n",
      "\n",
      "    accuracy                           0.53        64\n",
      "   macro avg       0.53      0.53      0.53        64\n",
      "weighted avg       0.54      0.53      0.53        64\n",
      "\n"
     ]
    }
   ],
   "source": [
    "# Print out classification report and confusion matrix\n",
    "print(classification_report(y_test, pred))"
   ]
  },
  {
   "cell_type": "code",
   "execution_count": 13,
   "metadata": {},
   "outputs": [
    {
     "name": "stdout",
     "output_type": "stream",
     "text": [
      "TP - True Negative 14\n",
      "FP - False Positive 14\n",
      "FN - False Negative 16\n",
      "TP - True Positive 20\n",
      "Accuracy Rate: 0.53125\n",
      "Misclassification Rate: 0.46875\n"
     ]
    }
   ],
   "source": [
    "# Print out confusion matrix\n",
    "cmat = confusion_matrix(y_test, pred)\n",
    "print('TP - True Negative {}'.format(cmat[0,0]))\n",
    "print('FP - False Positive {}'.format(cmat[0,1]))\n",
    "print('FN - False Negative {}'.format(cmat[1,0]))\n",
    "print('TP - True Positive {}'.format(cmat[1,1]))\n",
    "print('Accuracy Rate: {}'.format(np.divide(np.sum([cmat[0,0],cmat[1,1]]),np.sum(cmat))))\n",
    "print('Misclassification Rate: {}'.format(np.divide(np.sum([cmat[0,1],cmat[1,0]]),np.sum(cmat))))"
   ]
  },
  {
   "cell_type": "code",
   "execution_count": 14,
   "metadata": {},
   "outputs": [],
   "source": [
    "error_rate = []\n",
    "for i in range(1,40):\n",
    "    knn = KNeighborsClassifier(n_neighbors=i)\n",
    "    knn.fit(X_train, y_train)\n",
    "    pred_i = knn.predict(X_test)\n",
    "    error_rate.append(np.mean(pred_i != y_test))"
   ]
  },
  {
   "cell_type": "code",
   "execution_count": 15,
   "metadata": {},
   "outputs": [
    {
     "data": {
      "image/png": "[encoded data removed]",
      "text/plain": [
       "<Figure size 720x288 with 1 Axes>"
      ]
     },
     "metadata": {
      "needs_background": "light"
     },
     "output_type": "display_data"
    }
   ],
   "source": [
    "# Configure and plot error rate over k values\n",
    "plt.figure(figsize=(10,4))\n",
    "plt.plot(range(1,40), error_rate, color='blue', linestyle='dashed', marker='o', markerfacecolor='red', markersize=10)\n",
    "plt.xlabel('k-values')\n",
    "plt.ylabel('Error rate')\n",
    "plt.show()"
   ]
  },
  {
   "cell_type": "code",
   "execution_count": 16,
   "metadata": {},
   "outputs": [
    {
     "data": {
      "text/plain": [
       "{'n_neighbors': 29}"
      ]
     },
     "execution_count": 16,
     "metadata": {},
     "output_type": "execute_result"
    }
   ],
   "source": [
    "params = {'n_neighbors':list(range(1, 40))}\n",
    "\n",
    "knn = neighbors.KNeighborsClassifier()\n",
    "\n",
    "model = GridSearchCV(knn, params, cv=5)\n",
    "model.fit(X_train, y_train)\n",
    "model.best_params_"
   ]
  },
  {
   "cell_type": "code",
   "execution_count": 17,
   "metadata": {},
   "outputs": [],
   "source": [
    "# Retrain model using optimal k-value\n",
    "knn = KNeighborsClassifier(n_neighbors = 29)\n",
    "knn.fit(X_train, y_train)\n",
    "pred = knn.predict(X_test)"
   ]
  },
  {
   "cell_type": "code",
   "execution_count": 18,
   "metadata": {},
   "outputs": [
    {
     "name": "stdout",
     "output_type": "stream",
     "text": [
      "              precision    recall  f1-score   support\n",
      "\n",
      "     Healthy       0.56      0.50      0.53        28\n",
      "      Severe       0.64      0.69      0.67        36\n",
      "\n",
      "    accuracy                           0.61        64\n",
      "   macro avg       0.60      0.60      0.60        64\n",
      "weighted avg       0.61      0.61      0.61        64\n",
      "\n"
     ]
    }
   ],
   "source": [
    "# Print out classification report and confusion matrix\n",
    "print(classification_report(y_test, pred))"
   ]
  },
  {
   "cell_type": "code",
   "execution_count": 19,
   "metadata": {},
   "outputs": [
    {
     "name": "stdout",
     "output_type": "stream",
     "text": [
      "TP - True Negative 14\n",
      "FP - False Positive 14\n",
      "FN - False Negative 11\n",
      "TP - True Positive 25\n",
      "Accuracy Rate: 0.609375\n",
      "Misclassification Rate: 0.390625\n"
     ]
    }
   ],
   "source": [
    "# Print out confusion matrix\n",
    "cmat = confusion_matrix(y_test, pred)\n",
    "#print(cmat)\n",
    "print('TP - True Negative {}'.format(cmat[0,0]))\n",
    "print('FP - False Positive {}'.format(cmat[0,1]))\n",
    "print('FN - False Negative {}'.format(cmat[1,0]))\n",
    "print('TP - True Positive {}'.format(cmat[1,1]))\n",
    "print('Accuracy Rate: {}'.format(np.divide(np.sum([cmat[0,0],cmat[1,1]]),np.sum(cmat))))\n",
    "print('Misclassification Rate: {}'.format(np.divide(np.sum([cmat[0,1],cmat[1,0]]),np.sum(cmat))))"
   ]
  },
  {
   "cell_type": "markdown",
   "metadata": {},
   "source": [
    "# Radius Neighbors Classification"
   ]
  },
  {
   "cell_type": "code",
   "execution_count": 20,
   "metadata": {},
   "outputs": [],
   "source": [
    "rn = RadiusNeighborsClassifier(radius=5, weights='distance')\n",
    "rn.fit(X_train, y_train)\n",
    "pred = rn.predict(X_test)"
   ]
  },
  {
   "cell_type": "code",
   "execution_count": 21,
   "metadata": {},
   "outputs": [
    {
     "name": "stdout",
     "output_type": "stream",
     "text": [
      "              precision    recall  f1-score   support\n",
      "\n",
      "     Healthy       0.55      0.57      0.56        28\n",
      "      Severe       0.66      0.64      0.65        36\n",
      "\n",
      "    accuracy                           0.61        64\n",
      "   macro avg       0.60      0.61      0.60        64\n",
      "weighted avg       0.61      0.61      0.61        64\n",
      "\n"
     ]
    }
   ],
   "source": [
    "print(classification_report(y_test, pred))"
   ]
  },
  {
   "cell_type": "code",
   "execution_count": 22,
   "metadata": {},
   "outputs": [
    {
     "name": "stdout",
     "output_type": "stream",
     "text": [
      "TP - True Negative 16\n",
      "FP - False Positive 12\n",
      "FN - False Negative 13\n",
      "TP - True Positive 23\n",
      "Accuracy Rate: 0.609375\n",
      "Misclassification Rate: 0.390625\n"
     ]
    }
   ],
   "source": [
    "# Print out confusion matrix\n",
    "cmat = confusion_matrix(y_test, pred)\n",
    "print('TP - True Negative {}'.format(cmat[0,0]))\n",
    "print('FP - False Positive {}'.format(cmat[0,1]))\n",
    "print('FN - False Negative {}'.format(cmat[1,0]))\n",
    "print('TP - True Positive {}'.format(cmat[1,1]))\n",
    "print('Accuracy Rate: {}'.format(np.divide(np.sum([cmat[0,0],cmat[1,1]]),np.sum(cmat))))\n",
    "print('Misclassification Rate: {}'.format(np.divide(np.sum([cmat[0,1],cmat[1,0]]),np.sum(cmat))))"
   ]
  },
  {
   "cell_type": "code",
   "execution_count": 23,
   "metadata": {},
   "outputs": [],
   "source": [
    "error_rate = []\n",
    "for i in range(5,40):\n",
    "    rn = RadiusNeighborsClassifier(radius=i)\n",
    "    rn.fit(X_train, y_train)\n",
    "    pred_i = rn.predict(X_test)\n",
    "    error_rate.append(np.mean(pred_i != y_test))"
   ]
  },
  {
   "cell_type": "code",
   "execution_count": 24,
   "metadata": {},
   "outputs": [
    {
     "data": {
      "image/png": "[encoded data removed]",
      "text/plain": [
       "<Figure size 720x288 with 1 Axes>"
      ]
     },
     "metadata": {
      "needs_background": "light"
     },
     "output_type": "display_data"
    }
   ],
   "source": [
    "# Configure and plot error rate over k values\n",
    "plt.figure(figsize=(10,4))\n",
    "plt.plot(range(5,40), error_rate, color='blue', linestyle='dashed', marker='o', markerfacecolor='red', markersize=10)\n",
    "plt.xlabel('Radius values')\n",
    "plt.ylabel('Error rate')\n",
    "plt.show()"
   ]
  },
  {
   "cell_type": "code",
   "execution_count": 25,
   "metadata": {},
   "outputs": [],
   "source": [
    "# Retrain model using optimal radius\n",
    "rn = RadiusNeighborsClassifier(radius=14.5, weights='distance')\n",
    "rn.fit(X_train, y_train)\n",
    "pred = rn.predict(X_test)"
   ]
  },
  {
   "cell_type": "code",
   "execution_count": 26,
   "metadata": {},
   "outputs": [
    {
     "name": "stdout",
     "output_type": "stream",
     "text": [
      "TP - True Negative 16\n",
      "FP - False Positive 12\n",
      "FN - False Negative 11\n",
      "TP - True Positive 25\n",
      "Accuracy Rate: 0.640625\n",
      "Misclassification Rate: 0.359375\n"
     ]
    }
   ],
   "source": [
    "# Print out confusion matrix\n",
    "cmat = confusion_matrix(y_test, pred)\n",
    "print('TP - True Negative {}'.format(cmat[0,0]))\n",
    "print('FP - False Positive {}'.format(cmat[0,1]))\n",
    "print('FN - False Negative {}'.format(cmat[1,0]))\n",
    "print('TP - True Positive {}'.format(cmat[1,1]))\n",
    "print('Accuracy Rate: {}'.format(np.divide(np.sum([cmat[0,0],cmat[1,1]]),np.sum(cmat))))\n",
    "print('Misclassification Rate: {}'.format(np.divide(np.sum([cmat[0,1],cmat[1,0]]),np.sum(cmat))))"
   ]
  },
  {
   "cell_type": "markdown",
   "metadata": {},
   "source": [
    "# - Regression"
   ]
  },
  {
   "cell_type": "markdown",
   "metadata": {},
   "source": [
    "# KNN Regression"
   ]
  },
  {
   "cell_type": "code",
   "execution_count": 27,
   "metadata": {},
   "outputs": [],
   "source": [
    "features = ['Age','Cervical','BMI']"
   ]
  },
  {
   "cell_type": "code",
   "execution_count": 28,
   "metadata": {},
   "outputs": [],
   "source": [
    "# Creating X and y\n",
    "X = df_OSA_male[features]\n",
    "y = df_OSA_male['IAH']"
   ]
  },
  {
   "cell_type": "code",
   "execution_count": 29,
   "metadata": {},
   "outputs": [],
   "source": [
    "X_train, X_test, y_train, y_test = train_test_split(X, y, test_size = 0.2, random_state=0)"
   ]
  },
  {
   "cell_type": "code",
   "execution_count": 30,
   "metadata": {},
   "outputs": [],
   "source": [
    "scaler = StandardScaler()\n",
    "scaler.fit(X_train)\n",
    "\n",
    "X_train = scaler.transform(X_train)\n",
    "X_test = scaler.transform(X_test)"
   ]
  },
  {
   "cell_type": "code",
   "execution_count": 31,
   "metadata": {},
   "outputs": [],
   "source": [
    "# Create KNN instance\n",
    "knn = KNeighborsRegressor(n_neighbors=1)"
   ]
  },
  {
   "cell_type": "code",
   "execution_count": 32,
   "metadata": {},
   "outputs": [
    {
     "data": {
      "text/plain": [
       "KNeighborsRegressor(n_neighbors=1)"
      ]
     },
     "execution_count": 32,
     "metadata": {},
     "output_type": "execute_result"
    }
   ],
   "source": [
    "# Fit (i.e. traing) the model\n",
    "knn.fit(X_train, y_train)"
   ]
  },
  {
   "cell_type": "markdown",
   "metadata": {},
   "source": [
    "## Evaluate the predictions"
   ]
  },
  {
   "cell_type": "markdown",
   "metadata": {},
   "source": [
    "### Test set"
   ]
  },
  {
   "cell_type": "code",
   "execution_count": 33,
   "metadata": {},
   "outputs": [
    {
     "name": "stdout",
     "output_type": "stream",
     "text": [
      "RMSE: 12.039901110474288\n",
      "MAE: 10.1109375\n",
      "R-Squared: -0.9136118537051916\n"
     ]
    }
   ],
   "source": [
    "pred_test_knn = knn.predict(X_test)\n",
    "\n",
    "print('RMSE:', np.sqrt(metrics.mean_squared_error(y_test, pred_test_knn))) \n",
    "print('MAE:', metrics.mean_absolute_error(y_test, pred_test_knn))\n",
    "print('R-Squared:', r2_score(y_test, pred_test_knn))"
   ]
  },
  {
   "cell_type": "code",
   "execution_count": 34,
   "metadata": {},
   "outputs": [
    {
     "data": {
      "text/plain": [
       "array([13.3,  3.6, 13.5, 10. , 17.2,  4.8, 11. ,  7.1, 22.5,  7.4, 13.3,\n",
       "        3.5,  7.8, 26. ,  2.1, 27.9,  0. ,  2.5,  6. ,  1.4, 22.6, 27.6,\n",
       "       11.3, 13.2,  2. , 28.3,  0. , 26.4,  7.1,  4.6, 27. , 20.3,  0. ,\n",
       "       10. ,  0. ,  4.8, 15.9,  4.6, 21. ,  0. , 13.2, 13.7, 21.7, 15.9,\n",
       "       29.9,  2. , 22. , 20.2,  8.4, 10.8,  8.7, 11. , 21.7, 21.9, 11. ,\n",
       "       21.4,  3. ,  0. ,  3. ,  1.5, 10.2, 11.3,  8.7, 10.7])"
      ]
     },
     "execution_count": 34,
     "metadata": {},
     "output_type": "execute_result"
    }
   ],
   "source": [
    "pred_test_knn"
   ]
  },
  {
   "cell_type": "code",
   "execution_count": 35,
   "metadata": {},
   "outputs": [
    {
     "name": "stdout",
     "output_type": "stream",
     "text": [
      "RMSE value for k = 1 is: 12.039901110474288\n",
      "RMSE value for k = 2 is: 10.534267001077959\n",
      "RMSE value for k = 3 is: 10.22050210089722\n",
      "RMSE value for k = 4 is: 9.29595583691505\n",
      "RMSE value for k = 5 is: 9.024357317837099\n",
      "RMSE value for k = 6 is: 8.82103088859233\n",
      "RMSE value for k = 7 is: 8.893018501117856\n",
      "RMSE value for k = 8 is: 8.728888314724706\n",
      "RMSE value for k = 9 is: 8.676402450943636\n",
      "RMSE value for k = 10 is: 8.493817880523457\n",
      "RMSE value for k = 11 is: 8.430584172136061\n",
      "RMSE value for k = 12 is: 8.346292267711187\n",
      "RMSE value for k = 13 is: 8.402288625250375\n",
      "RMSE value for k = 14 is: 8.387330342120617\n",
      "RMSE value for k = 15 is: 8.378092505324693\n",
      "RMSE value for k = 16 is: 8.395180654848296\n",
      "RMSE value for k = 17 is: 8.339885976252061\n",
      "RMSE value for k = 18 is: 8.364457675131966\n",
      "RMSE value for k = 19 is: 8.392785952366697\n",
      "RMSE value for k = 20 is: 8.367539984405512\n",
      "RMSE value for k = 21 is: 8.27309698456306\n",
      "RMSE value for k = 22 is: 8.246812537734886\n",
      "RMSE value for k = 23 is: 8.195164218261414\n",
      "RMSE value for k = 24 is: 8.151031033672512\n",
      "RMSE value for k = 25 is: 8.193056770827358\n",
      "RMSE value for k = 26 is: 8.207545515750814\n",
      "RMSE value for k = 27 is: 8.208246641559294\n",
      "RMSE value for k = 28 is: 8.173821421139632\n",
      "RMSE value for k = 29 is: 8.15824006421135\n",
      "RMSE value for k = 30 is: 8.144161145501045\n",
      "RMSE value for k = 31 is: 8.176763360864332\n",
      "RMSE value for k = 32 is: 8.181152632259955\n",
      "RMSE value for k = 33 is: 8.21677302763094\n",
      "RMSE value for k = 34 is: 8.226213349571257\n",
      "RMSE value for k = 35 is: 8.241689289638307\n",
      "RMSE value for k = 36 is: 8.223257709172566\n",
      "RMSE value for k = 37 is: 8.212784333933584\n",
      "RMSE value for k = 38 is: 8.226025614052457\n",
      "RMSE value for k = 39 is: 8.202204776427156\n",
      "RMSE value for k = 40 is: 8.172062127398599\n"
     ]
    }
   ],
   "source": [
    "rmse_val = [] # to store RMSE values for different k\n",
    "\n",
    "for K in range(40):\n",
    "    K = K+1\n",
    "    model = neighbors.KNeighborsRegressor(n_neighbors = K)\n",
    "    model.fit(X_train, y_train) # fit the model\n",
    "    pred = model.predict(X_test) # make prediction on test set\n",
    "    error = sqrt(mean_squared_error(y_test, pred)) # calculate RMSE\n",
    "    rmse_val.append(error) # store RMSE values\n",
    "    print('RMSE value for k =' , K , 'is:', error)"
   ]
  },
  {
   "cell_type": "code",
   "execution_count": 36,
   "metadata": {},
   "outputs": [
    {
     "data": {
      "image/png": "[encoded data removed]",
      "text/plain": [
       "<Figure size 432x288 with 1 Axes>"
      ]
     },
     "metadata": {
      "needs_background": "light"
     },
     "output_type": "display_data"
    }
   ],
   "source": [
    "# Plotting the RMSE values against k values\n",
    "curve = pd.DataFrame(rmse_val) # Elbow curve \n",
    "curve.plot(legend = False)\n",
    "plt.xlabel('k-values')\n",
    "plt.ylabel('RMSE')\n",
    "plt.show()"
   ]
  },
  {
   "cell_type": "markdown",
   "metadata": {},
   "source": [
    "## Implementing GridsearchCV"
   ]
  },
  {
   "cell_type": "code",
   "execution_count": 37,
   "metadata": {},
   "outputs": [
    {
     "data": {
      "text/plain": [
       "{'n_neighbors': 19}"
      ]
     },
     "execution_count": 37,
     "metadata": {},
     "output_type": "execute_result"
    }
   ],
   "source": [
    "params = {'n_neighbors':list(range(1, 40))}\n",
    "\n",
    "knn = neighbors.KNeighborsRegressor()\n",
    "\n",
    "model = GridSearchCV(knn, params, cv=5)\n",
    "model.fit(X_train, y_train)\n",
    "model.best_params_"
   ]
  },
  {
   "cell_type": "code",
   "execution_count": 38,
   "metadata": {},
   "outputs": [],
   "source": [
    "# Retrain model using optimal k-value\n",
    "knn = KNeighborsRegressor(n_neighbors=29)\n",
    "knn.fit(X_train, y_train)\n",
    "pred_test_knn = knn.predict(X_test)"
   ]
  },
  {
   "cell_type": "code",
   "execution_count": 39,
   "metadata": {},
   "outputs": [
    {
     "name": "stdout",
     "output_type": "stream",
     "text": [
      "RMSE: 8.15824006421135\n",
      "MAE: 6.7060344827586205\n",
      "R-Squared: 0.1213802238943329\n"
     ]
    }
   ],
   "source": [
    "print('RMSE:', np.sqrt(metrics.mean_squared_error(y_test, pred_test_knn))) \n",
    "print('MAE:', metrics.mean_absolute_error(y_test, pred_test_knn))\n",
    "print('R-Squared:', r2_score(y_test, pred_test_knn))"
   ]
  },
  {
   "cell_type": "markdown",
   "metadata": {},
   "source": [
    "# Radius Neighbors Regression"
   ]
  },
  {
   "cell_type": "code",
   "execution_count": 40,
   "metadata": {},
   "outputs": [],
   "source": [
    "rn = RadiusNeighborsRegressor(radius=5, weights='distance')\n",
    "rn.fit(X_train, y_train)\n",
    "pred = rn.predict(X_test)\n",
    "pred_test_knn = knn.predict(X_test)"
   ]
  },
  {
   "cell_type": "code",
   "execution_count": 41,
   "metadata": {},
   "outputs": [
    {
     "name": "stdout",
     "output_type": "stream",
     "text": [
      "RMSE: 8.425313139808338\n",
      "MAE: 7.014366922892688\n",
      "R-Squared: 0.06291256440927362\n"
     ]
    }
   ],
   "source": [
    "print('RMSE:', np.sqrt(metrics.mean_squared_error(y_test, pred))) \n",
    "print('MAE:', metrics.mean_absolute_error(y_test, pred))\n",
    "print('R-Squared:', r2_score(y_test, pred))"
   ]
  }
 ],
 "metadata": {
  "kernelspec": {
   "display_name": "Python 3",
   "language": "python",
   "name": "python3"
  },
  "language_info": {
   "codemirror_mode": {
    "name": "ipython",
    "version": 3
   },
   "file_extension": ".py",
   "mimetype": "text/x-python",
   "name": "python",
   "nbconvert_exporter": "python",
   "pygments_lexer": "ipython3",
   "version": "3.8.2"
  }
 },
 "nbformat": 4,
 "nbformat_minor": 4
}
