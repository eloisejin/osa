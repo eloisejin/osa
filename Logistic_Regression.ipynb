{
 "cells": [
  {
   "cell_type": "markdown",
   "metadata": {},
   "source": [
    "### Import the libraries"
   ]
  },
  {
   "cell_type": "code",
   "execution_count": 1,
   "metadata": {},
   "outputs": [],
   "source": [
    "import numpy as np\n",
    "import matplotlib.pyplot as plt\n",
    "import pandas as pd\n",
    "from sklearn.model_selection import train_test_split\n",
    "from sklearn.linear_model import LogisticRegression\n",
    "import matplotlib.pyplot as plt\n",
    "import seaborn as sns\n",
    "from sklearn import metrics\n",
    "from sklearn.metrics import classification_report\n",
    "from sklearn.metrics import roc_auc_score\n",
    "from sklearn.metrics import roc_curve"
   ]
  },
  {
   "cell_type": "code",
   "execution_count": 2,
   "metadata": {},
   "outputs": [],
   "source": [
    "data = pd.read_excel(\"OSA_extreme_male.xlsx\")\n",
    "df_OSA_male = pd.DataFrame(data)"
   ]
  },
  {
   "cell_type": "code",
   "execution_count": 3,
   "metadata": {},
   "outputs": [],
   "source": [
    "features = ['Age','Cervical','BMI']"
   ]
  },
  {
   "cell_type": "code",
   "execution_count": 4,
   "metadata": {},
   "outputs": [],
   "source": [
    "# Creating X and y\n",
    "X = df_OSA_male[features]\n",
    "y = df_OSA_male['OSA']"
   ]
  },
  {
   "cell_type": "code",
   "execution_count": 5,
   "metadata": {},
   "outputs": [],
   "source": [
    "X_train, X_test, y_train, y_test = train_test_split(X, y, test_size = 0.2, random_state=0)"
   ]
  },
  {
   "cell_type": "code",
   "execution_count": 6,
   "metadata": {},
   "outputs": [
    {
     "data": {
      "text/plain": [
       "LogisticRegression()"
      ]
     },
     "execution_count": 6,
     "metadata": {},
     "output_type": "execute_result"
    }
   ],
   "source": [
    "model = LogisticRegression()\n",
    "model.fit(X_train, y_train)"
   ]
  },
  {
   "cell_type": "code",
   "execution_count": 7,
   "metadata": {},
   "outputs": [],
   "source": [
    "y_pred = model.predict(X_test)"
   ]
  },
  {
   "cell_type": "code",
   "execution_count": 8,
   "metadata": {},
   "outputs": [],
   "source": [
    "p_pred = model.predict_proba(X_test)\n",
    "y_pred = model.predict(X_test)\n",
    "accuracy = metrics.accuracy_score(y_test, y_pred)\n",
    "score = model.score(X_test, y_test)\n",
    "conf_m = metrics.confusion_matrix(y_test, y_pred)\n",
    "report = classification_report(y_test, y_pred)"
   ]
  },
  {
   "cell_type": "code",
   "execution_count": 9,
   "metadata": {},
   "outputs": [
    {
     "name": "stdout",
     "output_type": "stream",
     "text": [
      "Intercept: [-5.1564416]\n",
      "Coefficient: [[0.04160589 0.02133143 0.08746767]]\n",
      "\n",
      "p_pred:\n",
      "[[0.58895049 0.41104951]\n",
      " [0.55851108 0.44148892]\n",
      " [0.26990136 0.73009864]\n",
      " [0.37341123 0.62658877]\n",
      " [0.1519673  0.8480327 ]\n",
      " [0.49809179 0.50190821]\n",
      " [0.74356233 0.25643767]\n",
      " [0.58654823 0.41345177]\n",
      " [0.49845923 0.50154077]\n",
      " [0.64865919 0.35134081]\n",
      " [0.59030992 0.40969008]\n",
      " [0.41285084 0.58714916]\n",
      " [0.3888343  0.6111657 ]\n",
      " [0.37441114 0.62558886]\n",
      " [0.61497856 0.38502144]\n",
      " [0.5020897  0.4979103 ]\n",
      " [0.53861546 0.46138454]\n",
      " [0.59783329 0.40216671]\n",
      " [0.59350404 0.40649596]\n",
      " [0.56465004 0.43534996]\n",
      " [0.71825134 0.28174866]\n",
      " [0.30956066 0.69043934]\n",
      " [0.29739574 0.70260426]\n",
      " [0.28776599 0.71223401]\n",
      " [0.39039298 0.60960702]\n",
      " [0.11740423 0.88259577]\n",
      " [0.71003886 0.28996114]\n",
      " [0.11466745 0.88533255]\n",
      " [0.59283923 0.40716077]\n",
      " [0.56349293 0.43650707]\n",
      " [0.64329664 0.35670336]\n",
      " [0.47645519 0.52354481]\n",
      " [0.33463379 0.66536621]\n",
      " [0.68114294 0.31885706]\n",
      " [0.33472154 0.66527846]\n",
      " [0.51917893 0.48082107]\n",
      " [0.51859758 0.48140242]\n",
      " [0.61580575 0.38419425]\n",
      " [0.26811805 0.73188195]\n",
      " [0.53142107 0.46857893]\n",
      " [0.35293649 0.64706351]\n",
      " [0.38375495 0.61624505]\n",
      " [0.53538572 0.46461428]\n",
      " [0.49500138 0.50499862]\n",
      " [0.31047808 0.68952192]\n",
      " [0.43345935 0.56654065]\n",
      " [0.3773194  0.6226806 ]\n",
      " [0.69541746 0.30458254]\n",
      " [0.60412699 0.39587301]\n",
      " [0.62833069 0.37166931]\n",
      " [0.43776789 0.56223211]\n",
      " [0.42614872 0.57385128]\n",
      " [0.56388432 0.43611568]\n",
      " [0.31688268 0.68311732]\n",
      " [0.1459962  0.8540038 ]\n",
      " [0.27983364 0.72016636]\n",
      " [0.55434483 0.44565517]\n",
      " [0.33500006 0.66499994]\n",
      " [0.29406327 0.70593673]\n",
      " [0.55845501 0.44154499]\n",
      " [0.55493504 0.44506496]\n",
      " [0.32595476 0.67404524]\n",
      " [0.23233155 0.76766845]\n",
      " [0.40931085 0.59068915]]\n",
      "\n",
      "y_pred: ['Healthy' 'Healthy' 'Severe' 'Severe' 'Severe' 'Severe' 'Healthy'\n",
      " 'Healthy' 'Severe' 'Healthy' 'Healthy' 'Severe' 'Severe' 'Severe'\n",
      " 'Healthy' 'Healthy' 'Healthy' 'Healthy' 'Healthy' 'Healthy' 'Healthy'\n",
      " 'Severe' 'Severe' 'Severe' 'Severe' 'Severe' 'Healthy' 'Severe' 'Healthy'\n",
      " 'Healthy' 'Healthy' 'Severe' 'Severe' 'Healthy' 'Severe' 'Healthy'\n",
      " 'Healthy' 'Healthy' 'Severe' 'Healthy' 'Severe' 'Severe' 'Healthy'\n",
      " 'Severe' 'Severe' 'Severe' 'Severe' 'Healthy' 'Healthy' 'Healthy'\n",
      " 'Severe' 'Severe' 'Healthy' 'Severe' 'Severe' 'Severe' 'Healthy' 'Severe'\n",
      " 'Severe' 'Healthy' 'Healthy' 'Severe' 'Severe' 'Severe']\n",
      "\n",
      "Accuracy: 0.625\n",
      "\n",
      "Score: 0.625\n",
      "\n",
      "conf_m:\n",
      "[[17 11]\n",
      " [13 23]]\n",
      "\n",
      "Report:\n",
      "              precision    recall  f1-score   support\n",
      "\n",
      "     Healthy       0.57      0.61      0.59        28\n",
      "      Severe       0.68      0.64      0.66        36\n",
      "\n",
      "    accuracy                           0.62        64\n",
      "   macro avg       0.62      0.62      0.62        64\n",
      "weighted avg       0.63      0.62      0.63        64\n",
      "\n"
     ]
    }
   ],
   "source": [
    "print('Intercept:', model.intercept_)\n",
    "print('Coefficient:', model.coef_, end='\\n\\n')\n",
    "print('p_pred:', p_pred, sep='\\n', end='\\n\\n')\n",
    "print('y_pred:', y_pred, end='\\n\\n')\n",
    "print(\"Accuracy:\", accuracy, end='\\n\\n')\n",
    "print('Score:', score, end='\\n\\n')\n",
    "print('conf_m:', conf_m, sep='\\n', end='\\n\\n')\n",
    "print('Report:', report, sep='\\n')"
   ]
  },
  {
   "cell_type": "code",
   "execution_count": 10,
   "metadata": {},
   "outputs": [
    {
     "data": {
      "image/png": "[encoded data removed]",
      "text/plain": [
       "<Figure size 648x648 with 2 Axes>"
      ]
     },
     "metadata": {
      "needs_background": "light"
     },
     "output_type": "display_data"
    }
   ],
   "source": [
    "# Confusion matrix with seaborn\n",
    "\n",
    "plt.figure(figsize=(9,9))\n",
    "sns.heatmap(conf_m, annot=True, linewidths=.5, square = True, cmap = 'Blues_r');\n",
    "plt.ylabel('Actual label');\n",
    "plt.xlabel('Predicted label');\n",
    "all_sample_title = 'Accuracy Score: {0}'.format(score)\n",
    "plt.title(all_sample_title, size = 15);"
   ]
  }
 ],
 "metadata": {
  "kernelspec": {
   "display_name": "Python 3",
   "language": "python",
   "name": "python3"
  },
  "language_info": {
   "codemirror_mode": {
    "name": "ipython",
    "version": 3
   },
   "file_extension": ".py",
   "mimetype": "text/x-python",
   "name": "python",
   "nbconvert_exporter": "python",
   "pygments_lexer": "ipython3",
   "version": "3.8.2"
  }
 },
 "nbformat": 4,
 "nbformat_minor": 4
}
