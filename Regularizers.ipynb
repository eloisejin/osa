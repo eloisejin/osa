{
 "cells": [
  {
   "cell_type": "markdown",
   "metadata": {},
   "source": [
    "# Regularized Linear Models only for males dataset"
   ]
  },
  {
   "cell_type": "code",
   "execution_count": 1,
   "metadata": {},
   "outputs": [],
   "source": [
    "import pandas as pd\n",
    "import numpy as np\n",
    "from sklearn import model_selection\n",
    "from sklearn.linear_model import LinearRegression\n",
    "from sklearn.linear_model import Ridge\n",
    "from sklearn.linear_model import Lasso\n",
    "from sklearn.linear_model import ElasticNet\n",
    "from sklearn.neighbors import KNeighborsRegressor\n",
    "from sklearn.tree import DecisionTreeRegressor\n",
    "from sklearn.svm import SVR\n",
    "from sklearn.ensemble import RandomForestRegressor\n",
    "from sklearn.metrics import r2_score\n",
    "from sklearn.model_selection import train_test_split\n",
    "from sklearn.metrics import mean_squared_error\n",
    "from math import sqrt\n",
    "from sklearn import metrics"
   ]
  },
  {
   "cell_type": "code",
   "execution_count": 2,
   "metadata": {},
   "outputs": [],
   "source": [
    "data = pd.read_excel(\"OSA_extreme_male.xlsx\")\n",
    "df_OSA_male = pd.DataFrame(data)"
   ]
  },
  {
   "cell_type": "code",
   "execution_count": 3,
   "metadata": {},
   "outputs": [],
   "source": [
    "df_OSA_male.set_index(\"Patient\", inplace = True)"
   ]
  },
  {
   "cell_type": "code",
   "execution_count": 4,
   "metadata": {},
   "outputs": [
    {
     "name": "stdout",
     "output_type": "stream",
     "text": [
      "Predictors: ['Weight', 'Height', 'Age', 'Cervical']\n"
     ]
    }
   ],
   "source": [
    "### Picking predictor columns\n",
    "\n",
    "# Get all the columns from the dataframe\n",
    "columns = df_OSA_male.columns.tolist()\n",
    "\n",
    "# Filter the columns to remove ones we don't want\n",
    "columns = [c for c in columns if c not in [\"IAH\", \"Gender\", \"OSA\", \"BMI\"]]\n",
    "\n",
    "# Store the variable we'll be predicting on\n",
    "target = \"IAH\"\n",
    "\n",
    "print('Predictors:', columns)"
   ]
  },
  {
   "cell_type": "code",
   "execution_count": 5,
   "metadata": {},
   "outputs": [],
   "source": [
    "# Creating X and y\n",
    "X = df_OSA_male[columns]\n",
    "y = df_OSA_male['IAH']"
   ]
  },
  {
   "cell_type": "code",
   "execution_count": 6,
   "metadata": {},
   "outputs": [],
   "source": [
    "X_train, X_test, y_train, y_test = train_test_split(X, y, test_size = 0.2, random_state=0)"
   ]
  },
  {
   "cell_type": "code",
   "execution_count": 7,
   "metadata": {},
   "outputs": [
    {
     "name": "stdout",
     "output_type": "stream",
     "text": [
      "(254, 4)\n",
      "(64, 4)\n"
     ]
    }
   ],
   "source": [
    "print(X_train.shape); \n",
    "print(X_test.shape)"
   ]
  },
  {
   "cell_type": "markdown",
   "metadata": {},
   "source": [
    "##  <font color='red'> Linear Regression </font>"
   ]
  },
  {
   "cell_type": "code",
   "execution_count": 8,
   "metadata": {},
   "outputs": [
    {
     "data": {
      "text/plain": [
       "LinearRegression()"
      ]
     },
     "execution_count": 8,
     "metadata": {},
     "output_type": "execute_result"
    }
   ],
   "source": [
    "lr = LinearRegression()\n",
    "lr.fit(X_train, y_train)"
   ]
  },
  {
   "cell_type": "markdown",
   "metadata": {},
   "source": [
    "## Train set"
   ]
  },
  {
   "cell_type": "code",
   "execution_count": 9,
   "metadata": {},
   "outputs": [
    {
     "name": "stdout",
     "output_type": "stream",
     "text": [
      "RMSE: 7.545318843892882\n",
      "MAE: 6.189987346550643\n",
      "R-Squared: 0.16003667796632393\n"
     ]
    }
   ],
   "source": [
    "pred_train_lr = lr.predict(X_train)\n",
    "\n",
    "print('RMSE:', np.sqrt(metrics.mean_squared_error(y_train, pred_train_lr)))\n",
    "print('MAE:', metrics.mean_absolute_error(y_train, pred_train_lr))\n",
    "print('R-Squared:', r2_score(y_train, pred_train_lr))"
   ]
  },
  {
   "cell_type": "markdown",
   "metadata": {},
   "source": [
    "## Test set"
   ]
  },
  {
   "cell_type": "code",
   "execution_count": 10,
   "metadata": {},
   "outputs": [
    {
     "name": "stdout",
     "output_type": "stream",
     "text": [
      "RMSE: 8.097587887846482\n",
      "MAE: 6.643074174083332\n",
      "R-Squared: 0.13439580300094622\n"
     ]
    }
   ],
   "source": [
    "pred_test_lr = lr.predict(X_test)\n",
    "\n",
    "print('RMSE:', np.sqrt(metrics.mean_squared_error(y_test, pred_test_lr))) \n",
    "print('MAE:', metrics.mean_absolute_error(y_test, pred_test_lr))\n",
    "print('R-Squared:', r2_score(y_test, pred_test_lr))"
   ]
  },
  {
   "cell_type": "markdown",
   "metadata": {},
   "source": [
    "## <font color='red'>  Ridge Regression </font>"
   ]
  },
  {
   "cell_type": "code",
   "execution_count": 11,
   "metadata": {},
   "outputs": [
    {
     "data": {
      "text/plain": [
       "Ridge(alpha=0.01)"
      ]
     },
     "execution_count": 11,
     "metadata": {},
     "output_type": "execute_result"
    }
   ],
   "source": [
    "rr = Ridge(alpha=0.01)\n",
    "rr.fit(X_train, y_train) "
   ]
  },
  {
   "cell_type": "markdown",
   "metadata": {},
   "source": [
    "### Train set"
   ]
  },
  {
   "cell_type": "code",
   "execution_count": 12,
   "metadata": {},
   "outputs": [
    {
     "name": "stdout",
     "output_type": "stream",
     "text": [
      "RMSE: 7.545318843892962\n",
      "MAE: 6.18998738654825\n",
      "R-Squared: 0.16003667796630594\n"
     ]
    }
   ],
   "source": [
    "pred_train_rr = rr.predict(X_train)\n",
    "\n",
    "print('RMSE:', np.sqrt(metrics.mean_squared_error(y_train, pred_train_rr)))\n",
    "print('MAE:', metrics.mean_absolute_error(y_train, pred_train_rr))\n",
    "print('R-Squared:', r2_score(y_train, pred_train_rr))"
   ]
  },
  {
   "cell_type": "markdown",
   "metadata": {},
   "source": [
    "### Test set"
   ]
  },
  {
   "cell_type": "code",
   "execution_count": 13,
   "metadata": {},
   "outputs": [
    {
     "name": "stdout",
     "output_type": "stream",
     "text": [
      "RMSE: 8.09758795792419\n",
      "MAE: 6.643074308437751\n",
      "R-Squared: 0.1343957880188157\n"
     ]
    }
   ],
   "source": [
    "pred_test_rr = rr.predict(X_test)\n",
    "\n",
    "print('RMSE:', np.sqrt(metrics.mean_squared_error(y_test, pred_test_rr))) \n",
    "print('MAE:', metrics.mean_absolute_error(y_test, pred_test_rr))\n",
    "print('R-Squared:', r2_score(y_test, pred_test_rr))"
   ]
  },
  {
   "cell_type": "markdown",
   "metadata": {},
   "source": [
    "## <font color='red'> LASSO Regression </font>"
   ]
  },
  {
   "cell_type": "code",
   "execution_count": 14,
   "metadata": {},
   "outputs": [
    {
     "data": {
      "text/plain": [
       "Lasso(alpha=0.01)"
      ]
     },
     "execution_count": 14,
     "metadata": {},
     "output_type": "execute_result"
    }
   ],
   "source": [
    "model_lasso = Lasso(alpha=0.01)\n",
    "model_lasso.fit(X_train, y_train) "
   ]
  },
  {
   "cell_type": "markdown",
   "metadata": {},
   "source": [
    "### Train set"
   ]
  },
  {
   "cell_type": "code",
   "execution_count": 15,
   "metadata": {},
   "outputs": [
    {
     "name": "stdout",
     "output_type": "stream",
     "text": [
      "RMSE: 7.54532011855107\n",
      "MAE: 6.190018657831649\n",
      "R-Squared: 0.16003639417017457\n"
     ]
    }
   ],
   "source": [
    "pred_train_lasso = model_lasso.predict(X_train)\n",
    "\n",
    "print('RMSE:', np.sqrt(metrics.mean_squared_error(y_train, pred_train_lasso)))\n",
    "print('MAE:', metrics.mean_absolute_error(y_train, pred_train_lasso))\n",
    "print('R-Squared:', r2_score(y_train, pred_train_lasso))"
   ]
  },
  {
   "cell_type": "markdown",
   "metadata": {},
   "source": [
    "### Test set"
   ]
  },
  {
   "cell_type": "code",
   "execution_count": 16,
   "metadata": {},
   "outputs": [
    {
     "name": "stdout",
     "output_type": "stream",
     "text": [
      "RMSE: 8.098059977549514\n",
      "MAE: 6.64383048356563\n",
      "R-Squared: 0.13429487053910405\n"
     ]
    }
   ],
   "source": [
    "pred_test_lasso = model_lasso.predict(X_test)\n",
    "\n",
    "print('RMSE:', np.sqrt(metrics.mean_squared_error(y_test, pred_test_lasso))) \n",
    "print('MAE:', metrics.mean_absolute_error(y_test, pred_test_lasso))\n",
    "print('R-Squared:', r2_score(y_test, pred_test_lasso))"
   ]
  },
  {
   "cell_type": "markdown",
   "metadata": {},
   "source": [
    "## <font color='red'> ElasticNet Regression </font>"
   ]
  },
  {
   "cell_type": "code",
   "execution_count": 17,
   "metadata": {},
   "outputs": [
    {
     "data": {
      "text/plain": [
       "ElasticNet(alpha=0.01)"
      ]
     },
     "execution_count": 17,
     "metadata": {},
     "output_type": "execute_result"
    }
   ],
   "source": [
    "model_enet = ElasticNet(alpha = 0.01)\n",
    "model_enet.fit(X_train, y_train) "
   ]
  },
  {
   "cell_type": "markdown",
   "metadata": {},
   "source": [
    "### Train set"
   ]
  },
  {
   "cell_type": "code",
   "execution_count": 18,
   "metadata": {},
   "outputs": [
    {
     "name": "stdout",
     "output_type": "stream",
     "text": [
      "RMSE: 7.545319202885577\n",
      "MAE: 6.190006925569881\n",
      "R-Squared: 0.16003659803843473\n"
     ]
    }
   ],
   "source": [
    "pred_train_enet = model_enet.predict(X_train)\n",
    "\n",
    "print('RMSE:', np.sqrt(metrics.mean_squared_error(y_train, pred_train_enet)))\n",
    "print('MAE:', metrics.mean_absolute_error(y_train, pred_train_enet))\n",
    "print('R-Squared:', r2_score(y_train, pred_train_enet))"
   ]
  },
  {
   "cell_type": "markdown",
   "metadata": {},
   "source": [
    "### Test set"
   ]
  },
  {
   "cell_type": "code",
   "execution_count": 19,
   "metadata": {},
   "outputs": [
    {
     "name": "stdout",
     "output_type": "stream",
     "text": [
      "RMSE: 8.097834807871303\n",
      "MAE: 6.643474363232268\n",
      "R-Squared: 0.1343430123992302\n"
     ]
    }
   ],
   "source": [
    "pred_test_enet = model_enet.predict(X_test)\n",
    "\n",
    "print('RMSE:', np.sqrt(metrics.mean_squared_error(y_test, pred_test_enet)))\n",
    "print('MAE:', metrics.mean_absolute_error(y_test, pred_test_enet))\n",
    "print('R-Squared:', r2_score(y_test, pred_test_enet))"
   ]
  }
 ],
 "metadata": {
  "kernelspec": {
   "display_name": "Python 3",
   "language": "python",
   "name": "python3"
  },
  "language_info": {
   "codemirror_mode": {
    "name": "ipython",
    "version": 3
   },
   "file_extension": ".py",
   "mimetype": "text/x-python",
   "name": "python",
   "nbconvert_exporter": "python",
   "pygments_lexer": "ipython3",
   "version": "3.8.2"
  }
 },
 "nbformat": 4,
 "nbformat_minor": 4
}
